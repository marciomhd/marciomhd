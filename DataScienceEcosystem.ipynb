{
  "nbformat": 4,
  "nbformat_minor": 0,
  "metadata": {
    "colab": {
      "provenance": []
    },
    "kernelspec": {
      "name": "python3",
      "display_name": "Python 3"
    },
    "language_info": {
      "name": "python"
    }
  },
  "cells": [
    {
      "cell_type": "markdown",
      "source": [
        "# Meu Super Projeto de Ciência de Dados"
      ],
      "metadata": {
        "id": "_CuEsVxIlhJz"
      }
    },
    {
      "cell_type": "markdown",
      "source": [
        "Neste caderno, vamos descobrir como a ciência de dados é divertida e aprender a fazer o computador contar coisas!"
      ],
      "metadata": {
        "id": "qEjGyw8Al-G-"
      }
    },
    {
      "cell_type": "markdown",
      "source": [
        "### Magical Data Science Languages:\n",
        "* **Python:** It's like a Swiss Army knife, it's good for almost everything!\n",
        "* **A:** Great for graphing and statistics.\n",
        "* **SQL:** For organizing and finding treasures in large boxes of data."
      ],
      "metadata": {
        "id": "f4SUInKwnjbK"
      }
    },
    {
      "cell_type": "markdown",
      "source": [
        "### Libraries that help a lot:\n",
        "* **Pandas (Python):** Helps organize your data into pretty tables.\n",
        "* **Matplotlib (Python):** To make colorful drawings and graphs!\n",
        "* **ggplot2 (R):** Another one to make super cool graphs in R."
      ],
      "metadata": {
        "id": "jKv2n-4Uoejk"
      }
    },
    {
      "cell_type": "markdown",
      "source": [
        "### Magic Tools:\n",
        "| Tool | What does it do? |\n",
        "| :--------- | :---------------------------------------- |\n",
        "| Jupyter | Our magic notebook! |\n",
        "| GitHub | To save and share our projects! |\n",
        "| Google Colab | A Jupyter in the cloud (on the internet!) |"
      ],
      "metadata": {
        "id": "6tM8ayMBo7Ru"
      }
    },
    {
      "cell_type": "markdown",
      "source": [
        "### Magic Beads (Arithmetic Expressions):\n",
        "* Addition: 5 + 3 = 8\n",
        "* Multiplication: 2 * 4 = 8"
      ],
      "metadata": {
        "id": "VvOrHybtphFb"
      }
    },
    {
      "cell_type": "markdown",
      "source": [
        "\n",
        "### Our Goals with this Notebook:\n",
        "* Learn how to use Jupyter.\n",
        "* Get to know data science tools.\n",
        "* Do math with the computer!"
      ],
      "metadata": {
        "id": "k0mTiKd2p5V0"
      }
    },
    {
      "cell_type": "code",
      "source": [
        "# Multiplication\n",
        "result_multiplication = 5 * 10\n",
        "print(f\"The result of multiplication is: {result_multiplication}\")\n",
        "\n",
        "# Addition\n",
        "result_addition = 25 + 15\n",
        "print(f\"The result of addition is: {result_addition}\")"
      ],
      "metadata": {
        "colab": {
          "base_uri": "https://localhost:8080/"
        },
        "id": "DLNe1kBpsWyZ",
        "outputId": "5317c735-11b2-4586-debc-e20db8590d03"
      },
      "execution_count": 3,
      "outputs": [
        {
          "output_type": "stream",
          "name": "stdout",
          "text": [
            "The result of multiplication is: 50\n",
            "The result of addition is: 40\n"
          ]
        }
      ]
    },
    {
      "cell_type": "code",
      "source": [
        "minutes = 180 # Example: 180 minutes\n",
        "hours = minutes / 60\n",
        "print(f\"{minutes} minutes equals {hours} hours.\")"
      ],
      "metadata": {
        "colab": {
          "base_uri": "https://localhost:8080/"
        },
        "id": "brVarjEithhg",
        "outputId": "bb82eec4-2182-44d5-b64e-986f34af20bb"
      },
      "execution_count": 4,
      "outputs": [
        {
          "output_type": "stream",
          "name": "stdout",
          "text": [
            "180 minutes equals 3.0 hours.\n"
          ]
        }
      ]
    },
    {
      "cell_type": "markdown",
      "source": [
        "### Our Goals with this Notebook:\n",
        "* Learn how to use Jupyter.\n",
        "* Get to know data science tools.\n",
        "* Do math with the computer!"
      ],
      "metadata": {
        "id": "D1OpBOGsuIiU"
      }
    },
    {
      "cell_type": "markdown",
      "source": [
        "### Magical Author:\n",
        "Marcio Henrique David"
      ],
      "metadata": {
        "id": "jx6vHyyGupc7"
      }
    },
    {
      "cell_type": "code",
      "source": [],
      "metadata": {
        "id": "Nwtr5uUhuqur"
      },
      "execution_count": null,
      "outputs": []
    }
  ]
}